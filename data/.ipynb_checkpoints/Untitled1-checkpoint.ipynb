{
 "cells": [
  {
   "cell_type": "code",
   "execution_count": 24,
   "id": "693539a3-b03e-4d69-81b6-17a148338d64",
   "metadata": {},
   "outputs": [
    {
     "data": {
      "text/html": [
       "\n",
       "        <iframe\n",
       "            width=\"100%\"\n",
       "            height=\"650\"\n",
       "            src=\"http://127.0.0.1:8080/\"\n",
       "            frameborder=\"0\"\n",
       "            allowfullscreen\n",
       "        ></iframe>\n",
       "        "
      ],
      "text/plain": [
       "<IPython.lib.display.IFrame at 0x1d11f1c7550>"
      ]
     },
     "metadata": {},
     "output_type": "display_data"
    }
   ],
   "source": [
    "from jupyter_dash import JupyterDash\n",
    "\n",
    "import json\n",
    "import dash\n",
    "import dash_core_components as dcc\n",
    "import dash_html_components as html\n",
    "import dash_leaflet as dl\n",
    "# import settings\n",
    "\n",
    "from dash.dependencies import Output, Input, State\n",
    "\n",
    "MAP_ID = \"map-id\"\n",
    "COORDINATE_CLICK_ID = \"coordinate-click-id\"\n",
    "\n",
    "# app = dash.Dash(__name__, external_scripts=['https://codepen.io/chriddyp/pen/bWLwgP.css'])\n",
    "app = JupyterDash(__name__, external_scripts=['https://codepen.io/chriddyp/pen/bWLwgP.css'])\n",
    "\n",
    "# Create layout.\n",
    "app.layout = html.Div([\n",
    "    html.H1(\"Example: Gettings coordinates from click\"),\n",
    "    dl.Map(id=MAP_ID, style={'width': '1000px', 'height': '700px'}, center=[4.435011513227277, -75.20078393517075], zoom=13, children=[\n",
    "        dl.TileLayer('https://{s}.tile.opentopomap.org/{z}/{x}/{y}.png')\n",
    "        ]),\n",
    "    html.P(\"Coordinate (click on map):\"),\n",
    "    html.Div(id=COORDINATE_CLICK_ID)\n",
    "\n",
    "])\n",
    "\n",
    "@app.callback(Output(COORDINATE_CLICK_ID, 'children'),\n",
    "              [Input(MAP_ID, 'click_lat_lng')])\n",
    "def click_coord(e):\n",
    "    if e is not None:\n",
    "        return json.dumps(e)\n",
    "    else:\n",
    "        return \"-\"\n",
    "\n",
    "\n",
    "# app.run_server(host='127.0.0.1', port=8081, debug=True) \n",
    "app.run_server(host='127.0.0.1', port=8080, debug=True, mode='inline') "
   ]
  },
  {
   "cell_type": "code",
   "execution_count": 27,
   "id": "032af9be-cab8-45e6-b202-cca394261af9",
   "metadata": {},
   "outputs": [
    {
     "data": {
      "text/html": [
       "\n",
       "        <iframe\n",
       "            width=\"100%\"\n",
       "            height=\"650\"\n",
       "            src=\"http://127.0.0.1:8080/\"\n",
       "            frameborder=\"0\"\n",
       "            allowfullscreen\n",
       "        ></iframe>\n",
       "        "
      ],
      "text/plain": [
       "<IPython.lib.display.IFrame at 0x1d11f498040>"
      ]
     },
     "metadata": {},
     "output_type": "display_data"
    }
   ],
   "source": [
    "app.layout =html.Div([dcc.RadioItems(id='radio-items',\n",
    "                            options=[\n",
    "                            {'label':'Conexiones  ', 'value':0},\n",
    "                            {'label':'Usos', 'value':1}\n",
    "                        ],\n",
    "                            value=0,\n",
    "                            labelStyle={'display':'inline-block'},\n",
    "                            inputStyle={\"margin-right\": \"10px\", 'margin-left':'10px'},\n",
    "                            style = {'text-align': 'center', 'margin-top':'20px'}\n",
    "                                       ),\n",
    "            html.H1(id='h1' )])\n",
    "@app.callback(\n",
    "    Output('h1', 'children'),\n",
    "    State('radio-items', 'value'))\n",
    "def update_graph(tipo):\n",
    "    print(tipo)\n",
    "    if tipo==0:\n",
    "        fig='CONEX'\n",
    "    else:\n",
    "        fig='USO'\n",
    "    return fig\n",
    "\n",
    "app.run_server(host='127.0.0.1', port=8080, debug=True, mode='inline') "
   ]
  },
  {
   "cell_type": "code",
   "execution_count": null,
   "id": "ddd047db-dcf4-4a32-87a4-c606f9ce4f8d",
   "metadata": {},
   "outputs": [],
   "source": []
  }
 ],
 "metadata": {
  "kernelspec": {
   "display_name": "Python 3",
   "language": "python",
   "name": "python3"
  },
  "language_info": {
   "codemirror_mode": {
    "name": "ipython",
    "version": 3
   },
   "file_extension": ".py",
   "mimetype": "text/x-python",
   "name": "python",
   "nbconvert_exporter": "python",
   "pygments_lexer": "ipython3",
   "version": "3.9.5"
  }
 },
 "nbformat": 4,
 "nbformat_minor": 5
}
